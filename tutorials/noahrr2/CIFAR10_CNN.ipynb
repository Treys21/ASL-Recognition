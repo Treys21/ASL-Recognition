{
 "cells": [
  {
   "cell_type": "code",
   "execution_count": 1,
   "metadata": {},
   "outputs": [],
   "source": [
    "# Libraries for building network\n",
    "import torch\n",
    "import torch.nn as nn\n",
    "import torch.nn.functional as F\n",
    "import torch.optim as optim\n",
    "\n",
    "# Libraries for dataset\n",
    "import torchvision\n",
    "import torchvision.transforms as transforms\n",
    "\n",
    "# Miscellaneous Libraries\n",
    "import time"
   ]
  },
  {
   "cell_type": "code",
   "execution_count": 2,
   "metadata": {},
   "outputs": [],
   "source": [
    "class tutorial_model(nn.Module):\n",
    "    def __init__(self):\n",
    "        \"\"\" Initialize all layers of model \"\"\"\n",
    "        super(tutorial_model, self).__init__()\n",
    "        self.conv1 = nn.Conv2d(in_channels=3, out_channels=6, kernel_size=5)\n",
    "        self.conv2 = nn.Conv2d(in_channels=6, out_channels=16, kernel_size=5)\n",
    "        \n",
    "        self.pool = nn.MaxPool2d(2, 2)\n",
    "        \n",
    "        self.fc1 = nn.Linear(in_features=400, out_features=180)\n",
    "        self.fc2 = nn.Linear(in_features=180, out_features=120)\n",
    "        self.fc3 = nn.Linear(in_features=120, out_features=80)\n",
    "        self.fc4 = nn.Linear(in_features=80, out_features=10)\n",
    "        \n",
    "    def forward(self, x):\n",
    "        \"\"\" Chain all layers together \"\"\"\n",
    "        x = self.pool(F.relu(self.conv1(x)))\n",
    "        x = self.pool(F.relu(self.conv2(x)))\n",
    "        \n",
    "        x = x.view(-1, 400)\n",
    "        \n",
    "        x = F.relu(self.fc1(x))\n",
    "        x = F.relu(self.fc2(x))\n",
    "        x = F.relu(self.fc3(x))\n",
    "        x = self.fc4(x)\n",
    "        return F.log_softmax(x, dim=1)\n",
    "\n"
   ]
  },
  {
   "cell_type": "code",
   "execution_count": 3,
   "metadata": {},
   "outputs": [],
   "source": [
    "#Number of epochs for training\n",
    "num_epochs = 2\n",
    "\n",
    "# Batch Size for training/testing\n",
    "batch_size = 32\n",
    "\n",
    "# Learning Rate for optimizer\n",
    "learning_rate = 0.005\n",
    "\n",
    "# Dimensions of CIFAR10\n",
    "dim = 32\n",
    "\n",
    "# Momentum for Optimizer\n",
    "momentum = 0.5\n"
   ]
  },
  {
   "cell_type": "code",
   "execution_count": 4,
   "metadata": {},
   "outputs": [],
   "source": [
    "#Transformation for training data\n",
    "transform_train = torchvision.transforms.Compose([\n",
    "    transforms.RandomResizedCrop(dim, scale=(0.7, 1.0), ratio=(1.0,1.0)),\n",
    "    transforms.ColorJitter(\n",
    "            brightness=0.1,\n",
    "            contrast=0.1,\n",
    "            saturation=0.1,\n",
    "            hue=0.1),\n",
    "    transforms.RandomHorizontalFlip(),\n",
    "    transforms.ToTensor(),                            # Convert grayscale image to pytorch tensor\n",
    "    transforms.Normalize((0.5,), (0.5,)),             # Normalize grayscale data\n",
    "])\n",
    "\n",
    "# Transformation for training data\n",
    "transform_test = transforms.Compose([\n",
    "    transforms.CenterCrop(dim),\n",
    "    transforms.ToTensor(),                            # Convert grayscale image to pytorch tensor\n",
    "    transforms.Normalize((0.5,), (0.5,)),             # Normalize grayscale data\n",
    "])"
   ]
  },
  {
   "cell_type": "code",
   "execution_count": 5,
   "metadata": {},
   "outputs": [
    {
     "name": "stdout",
     "output_type": "stream",
     "text": [
      "Files already downloaded and verified\n"
     ]
    }
   ],
   "source": [
    "# Download training data\n",
    "trainset = torchvision.datasets.CIFAR10(root='./files', train=True, download=True, \n",
    "                                      transform=transform_train)\n",
    "\n",
    "# Initialize dataloader for training data\n",
    "train_loader = torch.utils.data.DataLoader(trainset, batch_size=batch_size, shuffle=True, \n",
    "                                           num_workers=8)\n",
    "\n",
    "# Download testing Data\n",
    "testset = torchvision.datasets.CIFAR10(root='./files', train=False, download=False, \n",
    "                                     transform=transform_test)\n",
    "\n",
    "# Initialize dataloader for testing data\n",
    "test_loader = torch.utils.data.DataLoader(testset, batch_size=batch_size, shuffle=False, \n",
    "                                          num_workers=8)"
   ]
  },
  {
   "cell_type": "code",
   "execution_count": 6,
   "metadata": {},
   "outputs": [],
   "source": [
    "# Initialize previously defined model\n",
    "model = tutorial_model()                                               \n",
    "\n",
    "# Definie loss function (Cross Entropy Loss)\n",
    "criterion = nn.CrossEntropyLoss()                                      \n",
    "\n",
    "# Initialize Optimizer (SGD)\n",
    "optimizer = optim.SGD(model.parameters(), lr=learning_rate, momentum=momentum)  \n",
    "\n",
    "# Set model to training (updating weights)\n",
    "model.train();"
   ]
  },
  {
   "cell_type": "code",
   "execution_count": 9,
   "metadata": {
    "scrolled": false
   },
   "outputs": [
    {
     "name": "stdout",
     "output_type": "stream",
     "text": [
      "Epoch: 1/2, Step: 1/1563, Loss: 2.0907061100006104, Accuracy: 37.5%\n",
      "Epoch: 1/2, Step: 101/1563, Loss: 2.187824249267578, Accuracy: 21.875%\n",
      "Epoch: 1/2, Step: 201/1563, Loss: 1.825063943862915, Accuracy: 28.125%\n",
      "Epoch: 1/2, Step: 301/1563, Loss: 1.9340792894363403, Accuracy: 34.375%\n",
      "Epoch: 1/2, Step: 401/1563, Loss: 1.9687609672546387, Accuracy: 18.75%\n",
      "Epoch: 1/2, Step: 501/1563, Loss: 1.9722671508789062, Accuracy: 28.125%\n",
      "Epoch: 1/2, Step: 601/1563, Loss: 1.9770240783691406, Accuracy: 25.0%\n",
      "Epoch: 1/2, Step: 701/1563, Loss: 1.789726734161377, Accuracy: 21.875%\n",
      "Epoch: 1/2, Step: 801/1563, Loss: 2.018716335296631, Accuracy: 25.0%\n",
      "Epoch: 1/2, Step: 901/1563, Loss: 1.9376310110092163, Accuracy: 25.0%\n",
      "Epoch: 1/2, Step: 1001/1563, Loss: 1.7933963537216187, Accuracy: 40.625%\n",
      "Epoch: 1/2, Step: 1101/1563, Loss: 1.8378682136535645, Accuracy: 31.25%\n",
      "Epoch: 1/2, Step: 1201/1563, Loss: 1.8138394355773926, Accuracy: 25.0%\n",
      "Epoch: 1/2, Step: 1301/1563, Loss: 1.6533515453338623, Accuracy: 37.5%\n",
      "Epoch: 1/2, Step: 1401/1563, Loss: 1.8672977685928345, Accuracy: 15.625%\n",
      "Epoch: 1/2, Step: 1501/1563, Loss: 1.799152135848999, Accuracy: 37.5%\n",
      "Epoch: 2/2, Step: 1/1563, Loss: 1.6218068599700928, Accuracy: 31.25%\n",
      "Epoch: 2/2, Step: 101/1563, Loss: 2.0124335289001465, Accuracy: 31.25%\n",
      "Epoch: 2/2, Step: 201/1563, Loss: 1.828493595123291, Accuracy: 46.875%\n",
      "Epoch: 2/2, Step: 301/1563, Loss: 1.9016746282577515, Accuracy: 28.125%\n",
      "Epoch: 2/2, Step: 401/1563, Loss: 1.8889034986495972, Accuracy: 28.125%\n",
      "Epoch: 2/2, Step: 501/1563, Loss: 1.7165944576263428, Accuracy: 31.25%\n",
      "Epoch: 2/2, Step: 601/1563, Loss: 1.6772478818893433, Accuracy: 40.625%\n",
      "Epoch: 2/2, Step: 701/1563, Loss: 1.863665223121643, Accuracy: 34.375%\n",
      "Epoch: 2/2, Step: 801/1563, Loss: 1.7026501893997192, Accuracy: 46.875%\n",
      "Epoch: 2/2, Step: 901/1563, Loss: 1.5946147441864014, Accuracy: 62.5%\n",
      "Epoch: 2/2, Step: 1001/1563, Loss: 1.557021975517273, Accuracy: 59.375%\n",
      "Epoch: 2/2, Step: 1101/1563, Loss: 2.0321407318115234, Accuracy: 18.75%\n",
      "Epoch: 2/2, Step: 1201/1563, Loss: 2.0202817916870117, Accuracy: 28.125%\n",
      "Epoch: 2/2, Step: 1301/1563, Loss: 1.668676733970642, Accuracy: 43.75%\n",
      "Epoch: 2/2, Step: 1401/1563, Loss: 1.816306233406067, Accuracy: 28.125%\n",
      "Epoch: 2/2, Step: 1501/1563, Loss: 1.4850903749465942, Accuracy: 43.75%\n",
      "Run Time: 60.23634696006775\n"
     ]
    }
   ],
   "source": [
    "# Store time to calculate train time\n",
    "start_time = time.time()\n",
    "\n",
    "# Store loss and accuracy data\n",
    "loss = []\n",
    "accuracy = []\n",
    "\n",
    "# Train the model\n",
    "# Loop for number of epochs\n",
    "for epoch in range(num_epochs):\n",
    "    # Loop through data in batch sized increments\n",
    "    for batch_idx, (X_train_batch, Y_train_batch) in enumerate(train_loader):\n",
    "        # If trained on all data in epoch, move onto next epoch\n",
    "        if(Y_train_batch.shape[0]<batch_size):\n",
    "            continue\n",
    "\n",
    "        # Forward pass through network\n",
    "        output = model(X_train_batch)                           \n",
    "        # Calculate loss of predictions\n",
    "        curr_loss = criterion(output, Y_train_batch)            \n",
    "        # Store loss\n",
    "        loss.append(curr_loss.item())                           \n",
    "\n",
    "        # Clear last calculation\n",
    "        optimizer.zero_grad()                                   \n",
    "        # Calculate gradient based on loss\n",
    "        curr_loss.backward()                                    \n",
    "        # Update model weights\n",
    "        optimizer.step()                                        \n",
    "\n",
    "        # Extract model predictions\n",
    "        _, predicted = torch.max(output.data, 1) \n",
    "        # Calculate number of correct predictions\n",
    "        correct = (predicted == Y_train_batch).sum().item()     \n",
    "        # Calculate/store accuracy\n",
    "        accuracy.append(correct/Y_train_batch.size(0))          \n",
    "        \n",
    "        # Intermitently print statistics\n",
    "        if batch_idx % 100 == 0:\n",
    "            print('Epoch: ' + str(epoch+1) + '/' + str(num_epochs) + ', Step: ' \n",
    "                  + str(batch_idx+1) + '/' + str(len(train_loader)) + ', Loss: ' \n",
    "                  + str(curr_loss.item()) + ', Accuracy: ' \n",
    "                  + str(correct/Y_train_batch.size(0)*100) + '%')\n",
    "\n",
    "# Store time to calculate train time\n",
    "end_time = time.time()\n",
    "\n",
    "# Print train time\n",
    "print('Run Time: ' + str(end_time - start_time))"
   ]
  },
  {
   "cell_type": "code",
   "execution_count": 10,
   "metadata": {},
   "outputs": [
    {
     "name": "stdout",
     "output_type": "stream",
     "text": [
      "Test Accuracy: 41.160000000000004%\n"
     ]
    }
   ],
   "source": [
    "# Test the model\n",
    "# Set model to testing (constant weights)\n",
    "model.eval()\n",
    "\n",
    "with torch.no_grad():\n",
    "    # Store number of correct/total samples in test data\n",
    "    correct = 0\n",
    "    total = 0\n",
    "    \n",
    "    # Loop through test data\n",
    "    for X_test_batch, Y_test_batch in test_loader:\n",
    "        # Forward pass through network\n",
    "        output = model(X_test_batch)  \n",
    "        \n",
    "        # Extract prediction\n",
    "        _, predicted = torch.max(output.data, 1)    \n",
    "        \n",
    "        # Update total number of sample\n",
    "        total += Y_test_batch.size(0)  \n",
    "        \n",
    "        # Update number of correct predictions\n",
    "        correct += (predicted == Y_test_batch).sum().item()     \n",
    "\n",
    "print('Test Accuracy: ' + str((correct/total) * 100) + '%')"
   ]
  },
  {
   "cell_type": "code",
   "execution_count": null,
   "metadata": {},
   "outputs": [],
   "source": []
  },
  {
   "cell_type": "code",
   "execution_count": null,
   "metadata": {},
   "outputs": [],
   "source": []
  }
 ],
 "metadata": {
  "kernelspec": {
   "display_name": "Python 3",
   "language": "python",
   "name": "python3"
  },
  "language_info": {
   "codemirror_mode": {
    "name": "ipython",
    "version": 3
   },
   "file_extension": ".py",
   "mimetype": "text/x-python",
   "name": "python",
   "nbconvert_exporter": "python",
   "pygments_lexer": "ipython3",
   "version": "3.7.3"
  }
 },
 "nbformat": 4,
 "nbformat_minor": 2
}
