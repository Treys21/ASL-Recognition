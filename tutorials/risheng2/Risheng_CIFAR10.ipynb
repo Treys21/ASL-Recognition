{
 "cells": [
  {
   "cell_type": "code",
   "execution_count": 25,
   "metadata": {},
   "outputs": [],
   "source": [
    "import torch\n",
    "import torch.nn as nn\n",
    "import torch.nn.functional as F\n",
    "import torch.optim as optim\n",
    "import torchvision\n",
    "import torchvision.transforms as transforms\n",
    "import time"
   ]
  },
  {
   "cell_type": "code",
   "execution_count": 26,
   "metadata": {},
   "outputs": [],
   "source": [
    "class tutorial_model(nn.Module):\n",
    "    def __init__(self):\n",
    "        \"\"\" Initialize all layers of model \"\"\"\n",
    "        # TODO \n",
    "        super(tutorial_model, self).__init__()\n",
    "        \n",
    "        self.convolution1 = nn.Conv2d(in_channels = 3, out_channels = 10, kernel_size=5)\n",
    "        self.convolution2 = nn.Conv2d(in_channels = 10, out_channels=20, kernel_size = 5)\n",
    "        \n",
    "        self.conv_dropout = nn.Dropout()\n",
    "        \n",
    "        self.fc1 = nn.Linear(in_features=320, out_features= 100)\n",
    "        self.fc2 = nn.Linear(in_features=100, out_features=30)\n",
    "        self.fc3 = nn.Linear(in_features=30, out_features=10)\n",
    "        \n",
    "        self.pool = nn.MaxPool2d(2,2)\n",
    "        \n",
    "        \n",
    "    def forward(self, x):\n",
    "        \"\"\" Chain all layers together \"\"\"\n",
    "        # TODO\n",
    "        x= self.pool(F.relu(self.convolution1(x)))\n",
    "        x= self.conv_dropout(x)\n",
    "        x= self.pool(F.relu(self.convolution2(x)))\n",
    "        \n",
    "        x= x.view(-1,320)\n",
    "        \n",
    "        x= self.fc1(x)\n",
    "        x= self.fc2(x)\n",
    "        y= self.fc3(x)\n",
    "        return y"
   ]
  },
  {
   "cell_type": "code",
   "execution_count": 27,
   "metadata": {},
   "outputs": [],
   "source": [
    "# Number of epochs for training\n",
    "num_epochs = 3     \n",
    "\n",
    "# Batch Size for training/testing\n",
    "batch_size = 64  \n",
    "\n",
    "# Learning Rate for optimizer\n",
    "learning_rate = 0.003\n",
    "\n",
    "# Dimensions of CIFAR10\n",
    "dim = 28   "
   ]
  },
  {
   "cell_type": "code",
   "execution_count": 28,
   "metadata": {},
   "outputs": [],
   "source": [
    "# Transformation for training data\n",
    "transform_train = torchvision.transforms.Compose([\n",
    "    transforms.RandomResizedCrop(dim, scale=(0.7, 1.0), ratio=(1.0,1.0)),\n",
    "    transforms.ColorJitter(\n",
    "            brightness=0.1,\n",
    "            contrast=0.1,\n",
    "            saturation=0.1,\n",
    "            hue=0.1),\n",
    "    transforms.RandomHorizontalFlip(),\n",
    "    transforms.ToTensor(),                            # Convert grayscale image to pytorch tensor\n",
    "    transforms.Normalize((0.5,), (0.5,)),             # Normalize grayscale data\n",
    "])\n",
    "\n",
    "# Transformation for training data\n",
    "transform_test = transforms.Compose([\n",
    "    transforms.CenterCrop(dim),\n",
    "    transforms.ToTensor(),                            # Convert grayscale image to pytorch tensor\n",
    "    transforms.Normalize((0.5,), (0.5,)),             # Normalize grayscale data\n",
    "])"
   ]
  },
  {
   "cell_type": "code",
   "execution_count": 29,
   "metadata": {},
   "outputs": [
    {
     "name": "stdout",
     "output_type": "stream",
     "text": [
      "Files already downloaded and verified\n"
     ]
    }
   ],
   "source": [
    "# Download training data\n",
    "trainset = torchvision.datasets.CIFAR10(root='./files', train=True, download=True, \n",
    "                                      transform=transform_train)\n",
    "\n",
    "# Initialize dataloader for training data\n",
    "train_loader = torch.utils.data.DataLoader(trainset, batch_size=batch_size, shuffle=True, \n",
    "                                           num_workers=8)\n",
    "\n",
    "# Download testing Data\n",
    "testset = torchvision.datasets.CIFAR10(root='./files', train=False, download=False, \n",
    "                                     transform=transform_test)\n",
    "\n",
    "# Initialize dataloader for testing data\n",
    "test_loader = torch.utils.data.DataLoader(testset, batch_size=batch_size, shuffle=False, \n",
    "                                          num_workers=8)"
   ]
  },
  {
   "cell_type": "code",
   "execution_count": 22,
   "metadata": {},
   "outputs": [],
   "source": [
    "# Initialize previously defined model\n",
    "model = tutorial_model()                                               \n",
    "\n",
    "# Definie loss function (Cross Entropy Loss)\n",
    "criterion = nn.CrossEntropyLoss()                                      \n",
    "\n",
    "# Initialize Optimizer (ADAM)\n",
    "optimizer = torch.optim.Adam(model.parameters(), lr=learning_rate)     \n",
    "\n",
    "# Set model to training (updating weights)\n",
    "model.train();         "
   ]
  },
  {
   "cell_type": "code",
   "execution_count": 23,
   "metadata": {},
   "outputs": [
    {
     "name": "stdout",
     "output_type": "stream",
     "text": [
      "Epoch: 1/3, Step: 1/782, Loss: 2.2883670330047607, Accuracy: 21.875%\n",
      "Epoch: 1/3, Step: 101/782, Loss: 1.9429645538330078, Accuracy: 21.875%\n",
      "Epoch: 1/3, Step: 201/782, Loss: 1.9058464765548706, Accuracy: 28.125%\n",
      "Epoch: 1/3, Step: 301/782, Loss: 1.7356585264205933, Accuracy: 39.0625%\n",
      "Epoch: 1/3, Step: 401/782, Loss: 1.6238470077514648, Accuracy: 35.9375%\n",
      "Epoch: 1/3, Step: 501/782, Loss: 1.5989580154418945, Accuracy: 37.5%\n",
      "Epoch: 1/3, Step: 601/782, Loss: 1.6437140703201294, Accuracy: 37.5%\n",
      "Epoch: 1/3, Step: 701/782, Loss: 1.719868779182434, Accuracy: 31.25%\n",
      "Epoch: 2/3, Step: 1/782, Loss: 1.7348352670669556, Accuracy: 42.1875%\n",
      "Epoch: 2/3, Step: 101/782, Loss: 1.8617303371429443, Accuracy: 26.5625%\n",
      "Epoch: 2/3, Step: 201/782, Loss: 1.5825626850128174, Accuracy: 37.5%\n",
      "Epoch: 2/3, Step: 301/782, Loss: 1.5830882787704468, Accuracy: 45.3125%\n",
      "Epoch: 2/3, Step: 401/782, Loss: 1.6057389974594116, Accuracy: 35.9375%\n",
      "Epoch: 2/3, Step: 501/782, Loss: 1.5774242877960205, Accuracy: 46.875%\n",
      "Epoch: 2/3, Step: 601/782, Loss: 1.4155503511428833, Accuracy: 51.5625%\n",
      "Epoch: 2/3, Step: 701/782, Loss: 1.5591621398925781, Accuracy: 45.3125%\n",
      "Epoch: 3/3, Step: 1/782, Loss: 1.5216338634490967, Accuracy: 42.1875%\n",
      "Epoch: 3/3, Step: 101/782, Loss: 1.5895932912826538, Accuracy: 42.1875%\n",
      "Epoch: 3/3, Step: 201/782, Loss: 1.7880557775497437, Accuracy: 37.5%\n",
      "Epoch: 3/3, Step: 301/782, Loss: 1.4566720724105835, Accuracy: 46.875%\n",
      "Epoch: 3/3, Step: 401/782, Loss: 1.68256676197052, Accuracy: 50.0%\n",
      "Epoch: 3/3, Step: 501/782, Loss: 1.71646249294281, Accuracy: 37.5%\n",
      "Epoch: 3/3, Step: 601/782, Loss: 1.3057358264923096, Accuracy: 56.25%\n",
      "Epoch: 3/3, Step: 701/782, Loss: 1.6210359334945679, Accuracy: 37.5%\n",
      "Run Time: 226.98334288597107\n"
     ]
    }
   ],
   "source": [
    "# Store time to calculate train time\n",
    "start_time = time.time()\n",
    "\n",
    "# Store loss and accuracy data\n",
    "loss = []\n",
    "accuracy = []\n",
    "\n",
    "# Train the model\n",
    "# Loop for number of epochs\n",
    "for epoch in range(num_epochs):\n",
    "    # Loop through data in batch sized increments\n",
    "    for batch_idx, (X_train_batch, Y_train_batch) in enumerate(train_loader):\n",
    "        # If trained on all data in epoch, move onto next epoch\n",
    "        if(Y_train_batch.shape[0]<batch_size):\n",
    "            continue\n",
    "\n",
    "        # Forward pass through network\n",
    "        output = model(X_train_batch)                           \n",
    "        # Calculate loss of predictions\n",
    "        curr_loss = criterion(output, Y_train_batch)            \n",
    "        # Store loss\n",
    "        loss.append(curr_loss.item())                           \n",
    "\n",
    "        # Clear last calculation\n",
    "        optimizer.zero_grad()                                   \n",
    "        # Calculate gradient based on loss\n",
    "        curr_loss.backward()                                    \n",
    "        # Update model weights\n",
    "        optimizer.step()                                        \n",
    "\n",
    "        # Extract model predictions\n",
    "        _, predicted = torch.max(output.data, 1) \n",
    "        # Calculate number of correct predictions\n",
    "        correct = (predicted == Y_train_batch).sum().item()     \n",
    "        # Calculate/store accuracy\n",
    "        accuracy.append(correct/Y_train_batch.size(0))          \n",
    "        \n",
    "        # Intermitently print statistics\n",
    "        if batch_idx % 100 == 0:\n",
    "            print('Epoch: ' + str(epoch+1) + '/' + str(num_epochs) + ', Step: ' \n",
    "                  + str(batch_idx+1) + '/' + str(len(train_loader)) + ', Loss: ' \n",
    "                  + str(curr_loss.item()) + ', Accuracy: ' \n",
    "                  + str(correct/Y_train_batch.size(0)*100) + '%')\n",
    "\n",
    "# Store time to calculate train time\n",
    "end_time = time.time()\n",
    "\n",
    "# Print train time\n",
    "print('Run Time: ' + str(end_time - start_time))"
   ]
  },
  {
   "cell_type": "code",
   "execution_count": 24,
   "metadata": {},
   "outputs": [
    {
     "name": "stdout",
     "output_type": "stream",
     "text": [
      "Test Accuracy: 46.43%\n"
     ]
    }
   ],
   "source": [
    "# Test the model\n",
    "# Set model to testing (constant weights)\n",
    "model.eval()\n",
    "\n",
    "with torch.no_grad():\n",
    "    # Store number of correct/total samples in test data\n",
    "    correct = 0\n",
    "    total = 0\n",
    "    \n",
    "    # Loop through test data\n",
    "    for X_test_batch, Y_test_batch in test_loader:\n",
    "        # Forward pass through network\n",
    "        output = model(X_test_batch)  \n",
    "        \n",
    "        # Extract prediction\n",
    "        _, predicted = torch.max(output.data, 1)    \n",
    "        \n",
    "        # Update total number of sample\n",
    "        total += Y_test_batch.size(0)  \n",
    "        \n",
    "        # Update number of correct predictions\n",
    "        correct += (predicted == Y_test_batch).sum().item()     \n",
    "\n",
    "print('Test Accuracy: ' + str((correct/total) * 100) + '%')"
   ]
  },
  {
   "cell_type": "code",
   "execution_count": null,
   "metadata": {},
   "outputs": [],
   "source": []
  }
 ],
 "metadata": {
  "kernelspec": {
   "display_name": "Python 3",
   "language": "python",
   "name": "python3"
  },
  "language_info": {
   "codemirror_mode": {
    "name": "ipython",
    "version": 3
   },
   "file_extension": ".py",
   "mimetype": "text/x-python",
   "name": "python",
   "nbconvert_exporter": "python",
   "pygments_lexer": "ipython3",
   "version": "3.7.0"
  }
 },
 "nbformat": 4,
 "nbformat_minor": 2
}
